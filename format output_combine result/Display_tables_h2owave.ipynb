{
 "cells": [
  {
   "cell_type": "code",
   "execution_count": 1,
   "metadata": {},
   "outputs": [],
   "source": [
    "from h2o_wave import site, ui,main, app, Q, ui\n",
    "import pandas as pd\n",
    "import numpy as np\n",
    "from format_output_combine_result import combine_LLM_CF_results\n",
    "from h2ogpte.types import ChatMessage\n",
    "import datetime\n",
    "\n",
    "sample_LLM_reply= ChatMessage(id='5e759040-145b-4c64-a67e-768aece252b6', content='```\\n[\\n    {\\n        \"title\": \"The Ring\",\\n        \"release year\": 2002,\\n        \"genre\": \"horror\",\\n        \"explanation\": \"This movie falls under the horror genre and was released in the preferred time frame. It shares similar eerie elements as Playback, which might appeal to the person.\"\\n    },\\n    {\\n        \"title\": \"28 Days Later\",\\n        \"release year\": 2002,\\n        \"genre\": \"horror\",\\n        \"explanation\": \"This post-apocalyptic horror movie was released in the preferred time frame and features a unique take on the zombie genre, which could resonate with the person\\'s taste.\"\\n    },\\n    {\\n        \"title\": \"The Others\",\\n        \"release year\": 2001,\\n        \"genre\": \"horror\",\\n        \"explanation\": \"This atmospheric horror film shares psychological aspects found in Playback and was released during the preferred time frame, making it a strong candidate for the person\\'s taste.\"\\n    },\\n    {\\n        \"title\": \"The Descent\",\\n        \"release year\": 2005,\\n        \"genre\": \"horror\",\\n        \"explanation\": \"Released in the preferred time frame, this claustrophobic horror movie focuses on a group of friends trapped in a cave system, sharing similar themes of isolation and fear as Playback.\"\\n    },\\n    {\\n        \"title\": \"Shutter\",\\n        \"release year\": 2004,\\n        \"genre\": \"horror\",\\n        \"explanation\": \"This Thai horror film, remade in Hollywood in 2008, revolves around a photographer haunted by vengeful spirits. Its supernatural elements and chilling atmosphere make it a potential fit for the person\\'s preferences.\"\\n    }\\n]\\n```', reply_to='87297b8a-3917-4f6c-b8b6-611f1f888f49', votes=0, created_at=datetime.datetime(2024, 4, 9, 18, 14, 55, 974263), type_list=[], error=None)\n",
    "sample_LLM_reply.content\n",
    "\n",
    "sample_CF_movie_recommended = [\"Toy Story 2\", \"Monsters, Inc.\", \"Toy Story 3\" , \"Finding Nemo\" , \"Finding Dory\"]\n",
    "\n",
    "df = combine_LLM_CF_results(sample_LLM_reply,sample_CF_movie_recommended)"
   ]
  },
  {
   "cell_type": "code",
   "execution_count": 2,
   "metadata": {},
   "outputs": [],
   "source": [
    "def df_to_list_of_dicts(df):\n",
    "    return df.to_dict(orient='records')\n",
    "\n",
    "page = site['/demo']\n",
    "\n",
    "# Convert Pandas DataFrame to list of dictionaries\n",
    "table_data = df_to_list_of_dicts(df)\n",
    "\n",
    "# Define CSS for table borders\n",
    "table_style = \"\"\"\n",
    "        .custom-table table {\n",
    "            border-collapse: collapse;\n",
    "            width: 100%;\n",
    "        }\n",
    "        .custom-table th, .custom-table td {\n",
    "            border: 1px solid #dddddd;\n",
    "            text-align: left;\n",
    "            padding: 8px;\n",
    "        }\n",
    "        \"\"\"\n",
    "\n",
    "content = ui.form_card(\n",
    "            box='1 1 -1 -1',\n",
    "            items=[\n",
    "                ui.markup(\n",
    "                    f'<style>{table_style}</style>'\n",
    "                    '<div class=\"custom-table\">'\n",
    "                    '<table>'\n",
    "                    f'<tr>{\" \".join([f\"<th>{col}</th>\" for col in df.columns])}</tr>'\n",
    "                    f'{\" \".join([f\"<tr>{\"\".join([f\"<td>{row[col]}</td>\" for col in df.columns])}</tr>\" for row in table_data])}'\n",
    "                    '</table>'\n",
    "                    '</div>'\n",
    "                )\n",
    "            ]\n",
    "        )\n",
    "\n",
    "v = page.add('example', content)\n",
    "\n",
    "page.save()"
   ]
  }
 ],
 "metadata": {
  "kernelspec": {
   "display_name": "Python 3",
   "language": "python",
   "name": "python3"
  },
  "language_info": {
   "codemirror_mode": {
    "name": "ipython",
    "version": 3
   },
   "file_extension": ".py",
   "mimetype": "text/x-python",
   "name": "python",
   "nbconvert_exporter": "python",
   "pygments_lexer": "ipython3",
   "version": "3.12.2"
  }
 },
 "nbformat": 4,
 "nbformat_minor": 2
}
