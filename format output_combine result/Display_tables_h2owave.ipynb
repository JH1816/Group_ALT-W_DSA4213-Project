{
 "cells": [
  {
   "cell_type": "code",
   "execution_count": 15,
   "metadata": {},
   "outputs": [],
   "source": [
    "from h2o_wave import site, ui,main, app, Q, ui\n",
    "import pandas as pd\n",
    "import numpy as np\n",
    "from format_output_combine_result import combine_LLM_CF_results\n",
    "from h2ogpte.types import ChatMessage\n",
    "import datetime\n",
    "\n",
    "sample_LLM_reply= ChatMessage(id='c0c2c1cb-1c51-4fc5-a9a7-0b95730e9233', content='Here are some horror movie recommendations from 2000 to 2010 that might appeal to the person:\\n\\n```json\\n[\\n    {\\n        \"title\": \"The Others\",\\n        \"like\": true,\\n        \"explanation\": \"This movie falls under the horror genre and was released in 2001. It has a twist ending, which is something the person seems to enjoy.\"\\n    },\\n    {\\n        \"title\": \"28 Days Later\",\\n        \"like\": true,\\n        \"explanation\": \"This movie is a horror film that was released in 2002. It involves an apocalypse, which is a theme that the person seems to be interested in.\"\\n    },\\n    {\\n        \"title\": \"Shutter Island\",\\n        \"like\": true,\\n        \"explanation\": \"This movie is a psychological horror thriller that was released in 2010. It has a great cast, is visually appealing, and has a twist ending, all of which the person seems to enjoy.\"\\n    },\\n    {\\n        \"title\": \"The Descent\",\\n        \"like\": true,\\n        \"explanation\": \"This movie is a horror film that was released in 2005. It involves caves and claustrophobia, which are themes that the person seems to enjoy.\"\\n    },\\n    {\\n        \"title\": \"Let the Right One In\",\\n        \"like\": true,\\n        \"explanation\": \"This movie is a horror film that was released in 2008. It involves vampires, which is a theme that the person seems to enjoy. It also has a slow pace, which is something that the person seems to appreciate in horror films.\"\\n    },\\n    {\\n        \"title\": \"Drag Me to Hell\",\\n        \"like\": true,\\n        \"explanation\": \"This movie is a horror film that was released in 2009. It involves demons, which is a theme that the person seems to enjoy. It also has a great soundtrack, which is something that the person seems to appreciate in horror films.\"\\n    },\\n    {\\n        \"title\": \"The Ring\",\\n        \"like\": true,\\n        \"explanation\": \"This movie is a horror film that was released in 2002. It involves technology, which is a theme that the person seems to enjoy. It also has a twist ending, which is something that the person seems to enjoy.\"\\n    },\\n    {\\n        \"title\": \"The Strangers\",\\n        \"like\": true,\\n        \"explanation\": \"This movie is a horror film that was released in 2008. It involves home invasions, which is a theme that the person seems to enjoy. It also has a tense atmosphere, which is something that the person seems to appreciate in horror films.\"\\n    },\\n    {\\n        \"title\": \"Cloverfield\",\\n        \"like\": true,\\n        \"explanation\": \"This movie is a horror film that was released in 2008. It involves monsters, which is a theme that the person seems to enjoy. It also has a found footage style, which is something that the person seems to appreciate in horror films.\"\\n    },\\n    {\\n        \"title\": \"Paranormal Activity\",\\n        \"like\": true,\\n        \"explanation\": \"This movie is a horror film that was released in 2007. It involves haunted houses, which is a theme that the person seems to enjoy. It also has a low budget and a found footage style, which are things that the person seems to appreciate in horror films.\"\\n    }\\n]\\n```\\n\\nThese movies were chosen because they fit the person\\'s preferred genre of horror and release years of 2000 to 2010. Additionally, they include themes and elements that the person seems to enjoy, such as twist endings, apocalypses, caves and claustrophobia, vampires, demons, technology, home invasions, monsters, haunted houses, low budgets, and found footage styles.', reply_to='5eb20d57-a1bd-4b75-84f7-36fe141729ce', votes=0, created_at=datetime.datetime(2024, 4, 6, 3, 10, 13, 73666), type_list=[], error=None)\n",
    "sample_LLM_reply.content\n",
    "\n",
    "sample_CF_movie_recommended = [\"Toy Story 2\", \"Monsters, Inc.\", \"Toy Story 3\" , \"Finding Nemo\" , \"Finding Dory\"]\n",
    "\n",
    "df = combine_LLM_CF_results(sample_LLM_reply,sample_CF_movie_recommended)"
   ]
  },
  {
   "cell_type": "code",
   "execution_count": 16,
   "metadata": {},
   "outputs": [],
   "source": [
    "def df_to_list_of_dicts(df):\n",
    "    return df.to_dict(orient='records')\n",
    "\n",
    "page = site['/demo']\n",
    "\n",
    "# Convert Pandas DataFrame to list of dictionaries\n",
    "table_data = df_to_list_of_dicts(df)\n",
    "\n",
    "# Define CSS for table borders\n",
    "table_style = \"\"\"\n",
    "        .custom-table table {\n",
    "            border-collapse: collapse;\n",
    "            width: 100%;\n",
    "        }\n",
    "        .custom-table th, .custom-table td {\n",
    "            border: 1px solid #dddddd;\n",
    "            text-align: left;\n",
    "            padding: 8px;\n",
    "        }\n",
    "        \"\"\"\n",
    "\n",
    "content = ui.form_card(\n",
    "            box='1 1 -1 -1',\n",
    "            items=[\n",
    "                ui.markup(\n",
    "                    f'<style>{table_style}</style>'\n",
    "                    '<div class=\"custom-table\">'\n",
    "                    '<table>'\n",
    "                    f'<tr>{\" \".join([f\"<th>{col}</th>\" for col in df.columns])}</tr>'\n",
    "                    f'{\" \".join([f\"<tr>{\"\".join([f\"<td>{row[col]}</td>\" for col in df.columns])}</tr>\" for row in table_data])}'\n",
    "                    '</table>'\n",
    "                    '</div>'\n",
    "                )\n",
    "            ]\n",
    "        )\n",
    "\n",
    "v = page.add('example', content)\n",
    "\n",
    "page.save()"
   ]
  }
 ],
 "metadata": {
  "kernelspec": {
   "display_name": "Python 3",
   "language": "python",
   "name": "python3"
  },
  "language_info": {
   "codemirror_mode": {
    "name": "ipython",
    "version": 3
   },
   "file_extension": ".py",
   "mimetype": "text/x-python",
   "name": "python",
   "nbconvert_exporter": "python",
   "pygments_lexer": "ipython3",
   "version": "3.12.2"
  }
 },
 "nbformat": 4,
 "nbformat_minor": 2
}
